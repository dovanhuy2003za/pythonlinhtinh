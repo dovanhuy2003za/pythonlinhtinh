{
 "cells": [
  {
   "cell_type": "code",
   "execution_count": 1,
   "metadata": {},
   "outputs": [],
   "source": [
    "import requests\n",
    "from bs4 import BeautifulSoup\n"
   ]
  },
  {
   "cell_type": "code",
   "execution_count": 2,
   "metadata": {},
   "outputs": [],
   "source": [
    "url = 'https://www.formula1.com/en/results/2024/drivers'\n",
    "response=requests.get(url)"
   ]
  },
  {
   "cell_type": "code",
   "execution_count": 44,
   "metadata": {},
   "outputs": [],
   "source": [
    "\n",
    "with open('f1_data.txt', 'w', encoding='utf-8') as file:\n",
    "    if response.status_code==200:\n",
    "        soup=BeautifulSoup(response.content, 'html.parser')\n",
    "        table=soup.find('table',class_='f1-table f1-table-with-data w-full')\n",
    "        \n",
    "        rows=table.find_all('tr')\n",
    "        for row_id,row in enumerate(rows):\n",
    "            columns =row.find_all('td')\n",
    "            if columns:\n",
    "                position=columns[0].text.strip()\n",
    "                driver_name=columns[1].text.strip().replace('VER','')\n",
    "                nationality=columns[2].text.strip()\n",
    "                car=columns[3].text.strip()\n",
    "                pst=columns[4].text.strip()\n",
    "                file.write(f\"Position: {position}\\n\")\n",
    "                file.write(f\"Driver Name: {driver_name}\\n\")\n",
    "                file.write(f\"Nationality: {nationality}\\n\")\n",
    "                file.write(f\"Car: {car}\\n\")\n",
    "                file.write(f\"Pst: {pst}\\n\\n\")\n",
    "            "
   ]
  },
  {
   "cell_type": "code",
   "execution_count": null,
   "metadata": {},
   "outputs": [],
   "source": []
  }
 ],
 "metadata": {
  "kernelspec": {
   "display_name": "Python 3",
   "language": "python",
   "name": "python3"
  },
  "language_info": {
   "codemirror_mode": {
    "name": "ipython",
    "version": 3
   },
   "file_extension": ".py",
   "mimetype": "text/x-python",
   "name": "python",
   "nbconvert_exporter": "python",
   "pygments_lexer": "ipython3",
   "version": "3.12.3"
  }
 },
 "nbformat": 4,
 "nbformat_minor": 2
}
